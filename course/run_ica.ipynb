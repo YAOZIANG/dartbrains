{
 "cells": [
  {
   "cell_type": "code",
   "execution_count": null,
   "id": "95bbd763",
   "metadata": {},
   "outputs": [
    {
     "name": "stderr",
     "output_type": "stream",
     "text": [
      "c:\\Users\\qq844\\Desktop\\dartbrains\\.conda\\Lib\\site-packages\\joblib\\memory.py:326: UserWarning: imgs are being resampled to the mask_img resolution. This process is memory intensive. You might want to provide a target_affine that is equal to the affine of the imgs or resample the mask beforehand to save memory and computation time.\n",
      "  return self.func(*args, **kwargs)\n"
     ]
    },
    {
     "name": "stdout",
     "output_type": "stream",
     "text": [
      "[NiftiMasker.wrapped] Resampling images\n"
     ]
    },
    {
     "data": {
      "application/vnd.jupyter.widget-view+json": {
       "model_id": "a888b81e2576488c8cde253fdb5cdafd",
       "version_major": 2,
       "version_minor": 0
      },
      "text/plain": [
       "interactive(children=(BoundedIntText(value=0, description='Component', max=29), BoundedFloatText(value=2.0, de…"
      ]
     },
     "metadata": {},
     "output_type": "display_data"
    }
   ],
   "source": [
    "import os\n",
    "import glob\n",
    "import numpy as np\n",
    "import pandas as pd\n",
    "import matplotlib.pyplot as plt\n",
    "import seaborn as sns\n",
    "from nltools.data import Brain_Data\n",
    "from nltools.plotting import component_viewer\n",
    "\n",
    "# 修改为你提供的文件路径\n",
    "base_dir = 'C:/Users/qq844/Desktop/dartbrains/course/data'\n",
    "sub = 'S01'\n",
    "\n",
    "# 修改后的文件路径\n",
    "data_path = os.path.join(base_dir, f'sub-{sub}', 'func', f'sub-{sub}_task-localizer_bold.nii.gz')\n",
    "\n",
    "# 加载数据\n",
    "data = Brain_Data(data_path)\n",
    "\n",
    "# 进行高通滤波\n",
    "data = data.filter(sampling_freq=1/2.4, high_pass=1/128)\n",
    "\n",
    "# 空间平滑\n",
    "data = data.smooth(6)\n",
    "\n",
    "# 设置重复时间\n",
    "tr = 2.4\n",
    "\n",
    "# 执行ICA分解\n",
    "output = data.decompose(algorithm='ica', n_components=30, axis='images', whiten='unit-variance')\n",
    "\n",
    "# 可视化成分\n",
    "component_viewer(output, tr=tr)\n"
   ]
  }
 ],
 "metadata": {
  "kernelspec": {
   "display_name": ".conda",
   "language": "python",
   "name": "python3"
  },
  "language_info": {
   "codemirror_mode": {
    "name": "ipython",
    "version": 3
   },
   "file_extension": ".py",
   "mimetype": "text/x-python",
   "name": "python",
   "nbconvert_exporter": "python",
   "pygments_lexer": "ipython3",
   "version": "3.11.13"
  }
 },
 "nbformat": 4,
 "nbformat_minor": 5
}
